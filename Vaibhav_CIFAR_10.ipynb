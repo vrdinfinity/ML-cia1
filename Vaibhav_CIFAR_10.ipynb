{
  "nbformat": 4,
  "nbformat_minor": 0,
  "metadata": {
    "colab": {
      "provenance": []
    },
    "kernelspec": {
      "name": "python3",
      "display_name": "Python 3"
    },
    "language_info": {
      "name": "python"
    },
    "accelerator": "GPU",
    "gpuClass": "standard"
  },
  "cells": [
    {
      "cell_type": "code",
      "execution_count": 7,
      "metadata": {
        "id": "22dT4VPf5jbT"
      },
      "outputs": [],
      "source": [
        "import numpy as np\n",
        "import pandas as pd\n",
        "from keras.datasets import cifar10\n",
        "from keras.models import load_model,save_model,Sequential\n",
        "from keras.layers import Conv2D,MaxPooling2D,Flatten,Dense,Dropout\n",
        "from keras.utils import to_categorical\n",
        "import matplotlib.pyplot as plt"
      ]
    },
    {
      "cell_type": "code",
      "source": [
        "(x_train,y_train),(x_test,y_test) = cifar10.load_data()"
      ],
      "metadata": {
        "colab": {
          "base_uri": "https://localhost:8080/"
        },
        "id": "Z1-Rg2CE5046",
        "outputId": "02240c8c-6513-4a26-8477-5c1321b7dabd"
      },
      "execution_count": 5,
      "outputs": [
        {
          "output_type": "stream",
          "name": "stdout",
          "text": [
            "Downloading data from https://www.cs.toronto.edu/~kriz/cifar-10-python.tar.gz\n",
            "170498071/170498071 [==============================] - 6s 0us/step\n"
          ]
        }
      ]
    },
    {
      "cell_type": "code",
      "source": [
        "x_train.shape"
      ],
      "metadata": {
        "colab": {
          "base_uri": "https://localhost:8080/"
        },
        "id": "XJ02J5e76bDQ",
        "outputId": "fd784056-14c6-4a89-c4c2-34d323a74454"
      },
      "execution_count": 6,
      "outputs": [
        {
          "output_type": "execute_result",
          "data": {
            "text/plain": [
              "(50000, 32, 32, 3)"
            ]
          },
          "metadata": {},
          "execution_count": 6
        }
      ]
    },
    {
      "cell_type": "code",
      "source": [
        "x_train = x_train.astype('float32') / 255.0\n",
        "x_test = x_test.astype('float32') / 255.0"
      ],
      "metadata": {
        "id": "Ja5wBawJ6eG1"
      },
      "execution_count": 8,
      "outputs": []
    },
    {
      "cell_type": "code",
      "source": [
        "y_train = to_categorical(y_train,10)\n",
        "y_test = to_categorical(y_test,10)"
      ],
      "metadata": {
        "id": "u9l8xKM762iT"
      },
      "execution_count": 9,
      "outputs": []
    },
    {
      "cell_type": "code",
      "source": [
        "model = Sequential()\n",
        "model.add(Conv2D(64,(3,3),padding='same',activation='relu',input_shape=(32,32,3)))\n",
        "model.add(MaxPooling2D(pool_size=(2,2)))\n",
        "model.add(Conv2D(32,(3,3),padding='same',activation='relu'))\n",
        "model.add(MaxPooling2D(pool_size=(2,2)))\n",
        "model.add(Flatten())\n",
        "model.add(Dense(128,activation='relu'))\n",
        "model.add(Dense(10,activation='softmax'))"
      ],
      "metadata": {
        "id": "nE13CIsi69Bw"
      },
      "execution_count": 12,
      "outputs": []
    },
    {
      "cell_type": "code",
      "source": [
        "model.compile(loss='categorical_crossentropy',metrics=['acc'],optimizer='adam')"
      ],
      "metadata": {
        "id": "hRXEk9OB7rNX"
      },
      "execution_count": 13,
      "outputs": []
    },
    {
      "cell_type": "code",
      "source": [
        "history = model.fit(x_train,y_train,epochs=50,validation_data=(x_test,y_test),validation_split=0.2)"
      ],
      "metadata": {
        "colab": {
          "base_uri": "https://localhost:8080/"
        },
        "id": "nH80ueej78A2",
        "outputId": "7f2c674c-64c0-4393-9d7f-e6f6cc81721c"
      },
      "execution_count": 14,
      "outputs": [
        {
          "output_type": "stream",
          "name": "stdout",
          "text": [
            "Epoch 1/50\n",
            "1563/1563 [==============================] - 21s 6ms/step - loss: 1.4040 - acc: 0.4980 - val_loss: 1.1318 - val_acc: 0.5985\n",
            "Epoch 2/50\n",
            "1563/1563 [==============================] - 9s 6ms/step - loss: 1.0368 - acc: 0.6353 - val_loss: 0.9867 - val_acc: 0.6538\n",
            "Epoch 3/50\n",
            "1563/1563 [==============================] - 9s 5ms/step - loss: 0.9034 - acc: 0.6835 - val_loss: 0.9244 - val_acc: 0.6759\n",
            "Epoch 4/50\n",
            "1563/1563 [==============================] - 8s 5ms/step - loss: 0.8127 - acc: 0.7167 - val_loss: 0.8980 - val_acc: 0.6842\n",
            "Epoch 5/50\n",
            "1563/1563 [==============================] - 9s 6ms/step - loss: 0.7298 - acc: 0.7447 - val_loss: 0.9051 - val_acc: 0.6836\n",
            "Epoch 6/50\n",
            "1563/1563 [==============================] - 8s 5ms/step - loss: 0.6660 - acc: 0.7684 - val_loss: 0.8672 - val_acc: 0.7048\n",
            "Epoch 7/50\n",
            "1563/1563 [==============================] - 8s 5ms/step - loss: 0.6029 - acc: 0.7855 - val_loss: 0.9645 - val_acc: 0.6937\n",
            "Epoch 8/50\n",
            "1563/1563 [==============================] - 9s 6ms/step - loss: 0.5416 - acc: 0.8087 - val_loss: 0.9284 - val_acc: 0.7031\n",
            "Epoch 9/50\n",
            "1563/1563 [==============================] - 8s 5ms/step - loss: 0.4861 - acc: 0.8286 - val_loss: 0.9692 - val_acc: 0.7035\n",
            "Epoch 10/50\n",
            "1563/1563 [==============================] - 8s 5ms/step - loss: 0.4292 - acc: 0.8475 - val_loss: 0.9676 - val_acc: 0.6985\n",
            "Epoch 11/50\n",
            "1563/1563 [==============================] - 9s 6ms/step - loss: 0.3811 - acc: 0.8658 - val_loss: 1.0768 - val_acc: 0.7039\n",
            "Epoch 12/50\n",
            "1563/1563 [==============================] - 8s 5ms/step - loss: 0.3399 - acc: 0.8791 - val_loss: 1.1156 - val_acc: 0.6983\n",
            "Epoch 13/50\n",
            "1563/1563 [==============================] - 7s 5ms/step - loss: 0.2985 - acc: 0.8929 - val_loss: 1.2567 - val_acc: 0.6931\n",
            "Epoch 14/50\n",
            "1563/1563 [==============================] - 9s 6ms/step - loss: 0.2635 - acc: 0.9070 - val_loss: 1.2685 - val_acc: 0.6899\n",
            "Epoch 15/50\n",
            "1563/1563 [==============================] - 8s 5ms/step - loss: 0.2365 - acc: 0.9152 - val_loss: 1.3625 - val_acc: 0.6883\n",
            "Epoch 16/50\n",
            "1563/1563 [==============================] - 8s 5ms/step - loss: 0.2055 - acc: 0.9260 - val_loss: 1.4572 - val_acc: 0.6804\n",
            "Epoch 17/50\n",
            "1563/1563 [==============================] - 9s 6ms/step - loss: 0.1857 - acc: 0.9328 - val_loss: 1.5824 - val_acc: 0.6899\n",
            "Epoch 18/50\n",
            "1563/1563 [==============================] - 8s 5ms/step - loss: 0.1708 - acc: 0.9398 - val_loss: 1.7650 - val_acc: 0.6826\n",
            "Epoch 19/50\n",
            "1563/1563 [==============================] - 8s 5ms/step - loss: 0.1431 - acc: 0.9490 - val_loss: 1.7901 - val_acc: 0.6807\n",
            "Epoch 20/50\n",
            "1563/1563 [==============================] - 9s 6ms/step - loss: 0.1399 - acc: 0.9496 - val_loss: 1.8216 - val_acc: 0.6848\n",
            "Epoch 21/50\n",
            "1563/1563 [==============================] - 8s 5ms/step - loss: 0.1327 - acc: 0.9523 - val_loss: 2.0090 - val_acc: 0.6833\n",
            "Epoch 22/50\n",
            "1563/1563 [==============================] - 8s 5ms/step - loss: 0.1193 - acc: 0.9575 - val_loss: 2.0592 - val_acc: 0.6791\n",
            "Epoch 23/50\n",
            "1563/1563 [==============================] - 9s 5ms/step - loss: 0.1136 - acc: 0.9596 - val_loss: 2.1766 - val_acc: 0.6793\n",
            "Epoch 24/50\n",
            "1563/1563 [==============================] - 8s 5ms/step - loss: 0.1054 - acc: 0.9632 - val_loss: 2.2188 - val_acc: 0.6683\n",
            "Epoch 25/50\n",
            "1563/1563 [==============================] - 8s 5ms/step - loss: 0.0963 - acc: 0.9656 - val_loss: 2.2514 - val_acc: 0.6728\n",
            "Epoch 26/50\n",
            "1563/1563 [==============================] - 9s 6ms/step - loss: 0.1040 - acc: 0.9624 - val_loss: 2.4690 - val_acc: 0.6698\n",
            "Epoch 27/50\n",
            "1563/1563 [==============================] - 8s 5ms/step - loss: 0.0938 - acc: 0.9670 - val_loss: 2.5055 - val_acc: 0.6761\n",
            "Epoch 28/50\n",
            "1563/1563 [==============================] - 9s 5ms/step - loss: 0.0900 - acc: 0.9678 - val_loss: 2.5749 - val_acc: 0.6720\n",
            "Epoch 29/50\n",
            "1563/1563 [==============================] - 8s 5ms/step - loss: 0.0928 - acc: 0.9675 - val_loss: 2.6218 - val_acc: 0.6764\n",
            "Epoch 30/50\n",
            "1563/1563 [==============================] - 7s 5ms/step - loss: 0.0815 - acc: 0.9713 - val_loss: 2.6758 - val_acc: 0.6728\n",
            "Epoch 31/50\n",
            "1563/1563 [==============================] - 9s 6ms/step - loss: 0.0864 - acc: 0.9703 - val_loss: 2.8591 - val_acc: 0.6771\n",
            "Epoch 32/50\n",
            "1563/1563 [==============================] - 9s 6ms/step - loss: 0.0821 - acc: 0.9717 - val_loss: 2.8841 - val_acc: 0.6806\n",
            "Epoch 33/50\n",
            "1563/1563 [==============================] - 7s 5ms/step - loss: 0.0819 - acc: 0.9717 - val_loss: 2.9919 - val_acc: 0.6752\n",
            "Epoch 34/50\n",
            "1563/1563 [==============================] - 8s 5ms/step - loss: 0.0797 - acc: 0.9723 - val_loss: 3.1348 - val_acc: 0.6659\n",
            "Epoch 35/50\n",
            "1563/1563 [==============================] - 8s 5ms/step - loss: 0.0716 - acc: 0.9746 - val_loss: 3.0937 - val_acc: 0.6710\n",
            "Epoch 36/50\n",
            "1563/1563 [==============================] - 7s 5ms/step - loss: 0.0773 - acc: 0.9734 - val_loss: 3.0842 - val_acc: 0.6635\n",
            "Epoch 37/50\n",
            "1563/1563 [==============================] - 8s 5ms/step - loss: 0.0770 - acc: 0.9740 - val_loss: 3.1312 - val_acc: 0.6727\n",
            "Epoch 38/50\n",
            "1563/1563 [==============================] - 8s 5ms/step - loss: 0.0729 - acc: 0.9756 - val_loss: 3.1219 - val_acc: 0.6785\n",
            "Epoch 39/50\n",
            "1563/1563 [==============================] - 8s 5ms/step - loss: 0.0673 - acc: 0.9774 - val_loss: 3.1803 - val_acc: 0.6655\n",
            "Epoch 40/50\n",
            "1563/1563 [==============================] - 9s 6ms/step - loss: 0.0740 - acc: 0.9758 - val_loss: 3.3408 - val_acc: 0.6721\n",
            "Epoch 41/50\n",
            "1563/1563 [==============================] - 8s 5ms/step - loss: 0.0682 - acc: 0.9770 - val_loss: 3.2761 - val_acc: 0.6755\n",
            "Epoch 42/50\n",
            "1563/1563 [==============================] - 8s 5ms/step - loss: 0.0750 - acc: 0.9755 - val_loss: 3.4626 - val_acc: 0.6679\n",
            "Epoch 43/50\n",
            "1563/1563 [==============================] - 9s 6ms/step - loss: 0.0674 - acc: 0.9788 - val_loss: 3.4251 - val_acc: 0.6772\n",
            "Epoch 44/50\n",
            "1563/1563 [==============================] - 8s 5ms/step - loss: 0.0636 - acc: 0.9788 - val_loss: 3.5437 - val_acc: 0.6666\n",
            "Epoch 45/50\n",
            "1563/1563 [==============================] - 8s 5ms/step - loss: 0.0696 - acc: 0.9777 - val_loss: 3.4558 - val_acc: 0.6757\n",
            "Epoch 46/50\n",
            "1563/1563 [==============================] - 8s 5ms/step - loss: 0.0670 - acc: 0.9785 - val_loss: 3.5469 - val_acc: 0.6746\n",
            "Epoch 47/50\n",
            "1563/1563 [==============================] - 8s 5ms/step - loss: 0.0649 - acc: 0.9790 - val_loss: 3.4491 - val_acc: 0.6732\n",
            "Epoch 48/50\n",
            "1563/1563 [==============================] - 8s 5ms/step - loss: 0.0621 - acc: 0.9807 - val_loss: 3.4781 - val_acc: 0.6711\n",
            "Epoch 49/50\n",
            "1563/1563 [==============================] - 9s 6ms/step - loss: 0.0616 - acc: 0.9797 - val_loss: 3.7229 - val_acc: 0.6706\n",
            "Epoch 50/50\n",
            "1563/1563 [==============================] - 8s 5ms/step - loss: 0.0622 - acc: 0.9805 - val_loss: 3.8742 - val_acc: 0.6642\n"
          ]
        }
      ]
    },
    {
      "cell_type": "code",
      "source": [
        "plt.plot(history.history['val_acc'],label='val_acc')\n",
        "plt.plot(history.history['val_loss'],label='val_loss')\n",
        "plt.plot(history.history['acc'],label='acc')\n",
        "plt.plot(history.history['loss'],label='loss')\n",
        "plt.legend()\n",
        "plt.show()"
      ],
      "metadata": {
        "colab": {
          "base_uri": "https://localhost:8080/",
          "height": 430
        },
        "id": "ge-VDrrf8HXb",
        "outputId": "cdfe9e50-b2ed-4063-9610-5ef256763743"
      },
      "execution_count": 17,
      "outputs": [
        {
          "output_type": "display_data",
          "data": {
            "text/plain": [
              "<Figure size 640x480 with 1 Axes>"
            ],
            "image/png": "[encoded data removed]"
          },
          "metadata": {}
        }
      ]
    },
    {
      "cell_type": "code",
      "source": [
        "y_pred = model.predict(x_test[5].reshape(1,32,32,3))"
      ],
      "metadata": {
        "colab": {
          "base_uri": "https://localhost:8080/"
        },
        "id": "A-PNU8l1AOWt",
        "outputId": "65025614-9668-440e-c9af-851376df68a4"
      },
      "execution_count": 18,
      "outputs": [
        {
          "output_type": "stream",
          "name": "stdout",
          "text": [
            "1/1 [==============================] - 0s 151ms/step\n"
          ]
        }
      ]
    },
    {
      "cell_type": "code",
      "source": [
        "y_pred_label = np.argmax(y_pred)\n",
        "y_pred_label"
      ],
      "metadata": {
        "colab": {
          "base_uri": "https://localhost:8080/"
        },
        "id": "FwRzxZWTAd2I",
        "outputId": "85f09ba5-f328-4478-f9df-6335006a5f21"
      },
      "execution_count": 19,
      "outputs": [
        {
          "output_type": "execute_result",
          "data": {
            "text/plain": [
              "6"
            ]
          },
          "metadata": {},
          "execution_count": 19
        }
      ]
    },
    {
      "cell_type": "code",
      "source": [
        "plt.imshow(x_test[5])"
      ],
      "metadata": {
        "colab": {
          "base_uri": "https://localhost:8080/",
          "height": 447
        },
        "id": "stOp2ZOuAlvA",
        "outputId": "257fc6a2-3d93-473d-e834-248d7af7bcf7"
      },
      "execution_count": 20,
      "outputs": [
        {
          "output_type": "execute_result",
          "data": {
            "text/plain": [
              "<matplotlib.image.AxesImage at 0x7f101054cbb0>"
            ]
          },
          "metadata": {},
          "execution_count": 20
        },
        {
          "output_type": "display_data",
          "data": {
            "text/plain": [
              "<Figure size 640x480 with 1 Axes>"
            ],
            "image/png": "[encoded data removed]"
          },
          "metadata": {}
        }
      ]
    }
  ]
}